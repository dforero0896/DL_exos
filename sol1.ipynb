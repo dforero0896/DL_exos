{
 "metadata": {
  "language_info": {
   "codemirror_mode": {
    "name": "ipython",
    "version": 3
   },
   "file_extension": ".py",
   "mimetype": "text/x-python",
   "name": "python",
   "nbconvert_exporter": "python",
   "pygments_lexer": "ipython3",
   "version": "3.6.9-final"
  },
  "orig_nbformat": 2,
  "kernelspec": {
   "name": "python3",
   "display_name": "Python 3",
   "language": "python"
  }
 },
 "nbformat": 4,
 "nbformat_minor": 2,
 "cells": [
  {
   "cell_type": "code",
   "execution_count": 2,
   "metadata": {},
   "outputs": [
    {
     "output_type": "stream",
     "name": "stdout",
     "text": [
      "Using GeForce MX150\n"
     ]
    }
   ],
   "source": [
    "import torch\n",
    "import time\n",
    "if torch.cuda.is_available():\n",
    "    print(f\"Using {torch.cuda.get_device_name(0)}\")\n",
    "else:\n",
    "    print(f\"Using CPU\")"
   ]
  },
  {
   "source": [
    "# Multiple views of a storage"
   ],
   "cell_type": "markdown",
   "metadata": {}
  },
  {
   "cell_type": "code",
   "execution_count": 3,
   "metadata": {
    "tags": []
   },
   "outputs": [
    {
     "output_type": "stream",
     "name": "stdout",
     "text": [
      "tensor([[1, 2, 1, 1, 1, 1, 2, 1, 1, 1, 1, 2, 1],\n        [2, 2, 2, 2, 2, 2, 2, 2, 2, 2, 2, 2, 2],\n        [1, 2, 1, 1, 1, 1, 2, 1, 1, 1, 1, 2, 1],\n        [1, 2, 1, 3, 3, 1, 2, 1, 3, 3, 1, 2, 1],\n        [1, 2, 1, 3, 3, 1, 2, 1, 3, 3, 1, 2, 1],\n        [1, 2, 1, 1, 1, 1, 2, 1, 1, 1, 1, 2, 1],\n        [2, 2, 2, 2, 2, 2, 2, 2, 2, 2, 2, 2, 2],\n        [1, 2, 1, 1, 1, 1, 2, 1, 1, 1, 1, 2, 1],\n        [1, 2, 1, 3, 3, 1, 2, 1, 3, 3, 1, 2, 1],\n        [1, 2, 1, 3, 3, 1, 2, 1, 3, 3, 1, 2, 1],\n        [1, 2, 1, 1, 1, 1, 2, 1, 1, 1, 1, 2, 1],\n        [2, 2, 2, 2, 2, 2, 2, 2, 2, 2, 2, 2, 2],\n        [1, 2, 1, 1, 1, 1, 2, 1, 1, 1, 1, 2, 1]])\n"
     ]
    }
   ],
   "source": [
    "mat = torch.full((13, 13), 1, dtype=int,device='cpu')\n",
    "mat[:,[1,6, 11]] = 2\n",
    "mat[[1,6, 11], :] = 2\n",
    "mat[3:5,3:5]=3\n",
    "mat[8:10,8:10]=3\n",
    "mat[3:5,8:10]=3\n",
    "mat[8:10,3:5]=3\n",
    "print(mat)"
   ]
  },
  {
   "source": [
    "# Eigendecomposition"
   ],
   "cell_type": "markdown",
   "metadata": {}
  },
  {
   "cell_type": "code",
   "execution_count": 4,
   "metadata": {
    "tags": []
   },
   "outputs": [
    {
     "output_type": "execute_result",
     "data": {
      "text/plain": [
       "tensor([[ 1.0000,  0.0000],\n",
       "        [20.0000,  0.0000],\n",
       "        [19.0000,  0.0000],\n",
       "        [18.0000,  0.0000],\n",
       "        [17.0000,  0.0000],\n",
       "        [ 2.0000,  0.0000],\n",
       "        [ 3.0000,  0.0000],\n",
       "        [16.0000,  0.0000],\n",
       "        [15.0000,  0.0000],\n",
       "        [ 4.0000,  0.0000],\n",
       "        [ 5.0000,  0.0000],\n",
       "        [14.0000,  0.0000],\n",
       "        [13.0000,  0.0000],\n",
       "        [12.0000,  0.0000],\n",
       "        [ 6.0000,  0.0000],\n",
       "        [11.0000,  0.0000],\n",
       "        [10.0000,  0.0000],\n",
       "        [ 7.0000,  0.0000],\n",
       "        [ 9.0000,  0.0000],\n",
       "        [ 8.0000,  0.0000]], dtype=torch.float64)"
      ]
     },
     "metadata": {},
     "execution_count": 4
    }
   ],
   "source": [
    "torch.manual_seed(42)\n",
    "M = torch.empty((20,20), dtype=float).normal_(mean=0., std=1.)\n",
    "D = torch.diag(torch.arange(1,21, dtype=float))\n",
    "Minv=torch.inverse(M)\n",
    "mat = Minv.mm(D).mm(M)\n",
    "eval, evect = torch.eig(mat, eigenvectors=True)\n",
    "eval\n"
   ]
  },
  {
   "source": [
    "# Flops per second"
   ],
   "cell_type": "markdown",
   "metadata": {}
  },
  {
   "cell_type": "code",
   "execution_count": 5,
   "metadata": {
    "tags": []
   },
   "outputs": [
    {
     "output_type": "stream",
     "name": "stdout",
     "text": [
      "Throughput CPU: 1.137961e+11 flops/s\n",
      "Throughput GPU: 3.426319e+11 flops/s\n"
     ]
    }
   ],
   "source": [
    "N=5000\n",
    "M1 = torch.empty((N,N), dtype=torch.float32).normal_(0, 1)\n",
    "M2 = torch.empty((N,N), dtype=torch.float32).normal_(0, 1)\n",
    "def timemul(M1, M2):\n",
    "    t1 = time.perf_counter()\n",
    "    M1.mm(M2)\n",
    "    t2 = time.perf_counter()\n",
    "    return t2-t1\n",
    "print(f\"Throughput CPU: {N**3/timemul(M1, M2):e} flops/s\")\n",
    "\n",
    "\n",
    "print(f\"Throughput GPU: {N**3/timemul(M1.cuda(), M2.cuda()):e} flops/s\")\n"
   ]
  },
  {
   "source": [
    "#  Playing with strides"
   ],
   "cell_type": "markdown",
   "metadata": {}
  },
  {
   "cell_type": "code",
   "execution_count": 7,
   "metadata": {
    "tags": []
   },
   "outputs": [
    {
     "output_type": "stream",
     "name": "stdout",
     "text": [
      "tensor([[   1.,    1.,    1.,  ...,    1.,    1.,    1.],\n        [   2.,    2.,    2.,  ...,    2.,    2.,    2.],\n        [   3.,    3.,    3.,  ...,    3.,    3.,    3.],\n        ...,\n        [ 998.,  998.,  998.,  ...,  998.,  998.,  998.],\n        [ 999.,  999.,  999.,  ...,  999.,  999.,  999.],\n        [1000., 1000., 1000.,  ..., 1000., 1000., 1000.]])\nSlow time = 7.91157078599997\ntensor([[   1.,    1.,    1.,  ...,    1.,    1.,    1.],\n        [   2.,    2.,    2.,  ...,    2.,    2.,    2.],\n        [   3.,    3.,    3.,  ...,    3.,    3.,    3.],\n        ...,\n        [ 998.,  998.,  998.,  ...,  998.,  998.,  998.],\n        [ 999.,  999.,  999.,  ...,  999.,  999.,  999.],\n        [1000., 1000., 1000.,  ..., 1000., 1000., 1000.]])\nFast time = 0.0022343939999700524\n"
     ]
    }
   ],
   "source": [
    "def mul_row(mat):\n",
    "    nrows, ncols = mat.shape\n",
    "    newmat=torch.empty(mat.shape, dtype=torch.float32)\n",
    "    for i in range(nrows):\n",
    "        for j in range(ncols):\n",
    "            newmat[i,j] = mat[i,j]*(i+1)\n",
    "    return newmat\n",
    "\n",
    "def mul_row_fast(mat):\n",
    "    return mat * torch.arange(1, mat.shape[0]+1)[:,None]\n",
    "\n",
    "M = torch.empty((1000,400), dtype=torch.float32).fill_(1)\n",
    "\n",
    "t1 = time.perf_counter()\n",
    "print(mul_row(M))\n",
    "t2 = time.perf_counter()\n",
    "print(f\"Slow time = {t2-t1}\")\n",
    "\n",
    "t1 = time.perf_counter()\n",
    "print(mul_row_fast(M))\n",
    "t2 = time.perf_counter()\n",
    "print(f\"Fast time = {t2-t1}\")"
   ]
  },
  {
   "cell_type": "code",
   "execution_count": null,
   "metadata": {},
   "outputs": [],
   "source": []
  }
 ]
}